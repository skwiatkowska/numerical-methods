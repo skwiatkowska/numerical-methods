{
 "cells": [
  {
   "cell_type": "markdown",
   "metadata": {},
   "source": [
    "Sylwia Kwiatkowska, sprawozdanie 5"
   ]
  },
  {
   "cell_type": "code",
   "execution_count": 2,
   "metadata": {},
   "outputs": [
    {
     "name": "stdout",
     "output_type": "stream",
     "text": [
      "x1:  [1. 1.]\n",
      "x2:  [2. 0.]\n",
      "Współczynnik uwarunkowania macierzy:  40002.00007491187\n"
     ]
    },
    {
     "data": {
      "text/plain": [
       "'\\nNiewielka zmiana jednego z elementów wektora b powoduje znaczne zmiany w rozwiązaniu układu. Współczynnik uwarunkowania \\nmacierzy A przekracza wartość 40 000, co świadczy o tym, że macierz ta jest źle uwarunkowana.\\n'"
      ]
     },
     "execution_count": 2,
     "metadata": {},
     "output_type": "execute_result"
    }
   ],
   "source": [
    "#zad 1\n",
    "import numpy as np\n",
    "\n",
    "A=np.array([[1,1],[1,1.0001]])\n",
    "b1=np.array([2,2.0001])\n",
    "b2=np.array([2,2])\n",
    "\n",
    "x1 = np.linalg.solve(A, b1)\n",
    "x2 = np.linalg.solve(A, b2)\n",
    "print(\"x1: \", x1)\n",
    "print(\"x2: \", x2)\n",
    "\n",
    "wspolcz = np.linalg.cond(A)\n",
    "print(\"Współczynnik uwarunkowania macierzy: \", wspolcz)\n",
    "\n",
    "\"\"\"\n",
    "Niewielka zmiana jednego z elementów wektora b powoduje znaczne zmiany w rozwiązaniu układu. Współczynnik uwarunkowania \n",
    "macierzy A przekracza wartość 40 000, co świadczy o tym, że macierz ta jest źle uwarunkowana.\n",
    "\"\"\"\n"
   ]
  },
  {
   "cell_type": "code",
   "execution_count": 3,
   "metadata": {
    "scrolled": true
   },
   "outputs": [
    {
     "name": "stdout",
     "output_type": "stream",
     "text": [
      "Współczynnik uwarunkowania (norma kolumnowa):  33872790820.227394\n",
      "Współczynnik uwarunkowania (norma spektralna):  15257575516.147259\n",
      "Współczynnik uwarunkowania (norma wierszowa):  33872790819.49471\n",
      "(8, 8)\n",
      "[[1.         0.5        0.33333333 0.25       0.2        0.16666667\n",
      "  0.14285714 0.125     ]\n",
      " [0.5        0.33333333 0.25       0.2        0.16666667 0.14285714\n",
      "  0.125      0.11111111]\n",
      " [0.33333333 0.25       0.2        0.16666667 0.14285714 0.125\n",
      "  0.11111111 0.1       ]\n",
      " [0.25       0.2        0.16666667 0.14285714 0.125      0.11111111\n",
      "  0.1        0.09090909]\n",
      " [0.2        0.16666667 0.14285714 0.125      0.11111111 0.1\n",
      "  0.09090909 0.08333333]\n",
      " [0.16666667 0.14285714 0.125      0.11111111 0.1        0.09090909\n",
      "  0.08333333 0.07692308]\n",
      " [0.14285714 0.125      0.11111111 0.1        0.09090909 0.08333333\n",
      "  0.07692308 0.07142857]\n",
      " [0.125      0.11111111 0.1        0.09090909 0.08333333 0.07692308\n",
      "  0.07142857 0.06666667]]\n"
     ]
    },
    {
     "data": {
      "text/plain": [
       "'\\nObliczone współczynniki uwarunkowania macierzy są bardzo duże (rzędu 10^10), macierz Hilberta jest źle uwarunkowana.\\n'"
      ]
     },
     "execution_count": 3,
     "metadata": {},
     "output_type": "execute_result"
    }
   ],
   "source": [
    "#zad 2\n",
    "from scipy.linalg import hilbert\n",
    "H = hilbert(8)\n",
    "wspolcz_kol = np.linalg.cond(H, 1)\n",
    "wspolcz_spek = np.linalg.cond(H, 2)\n",
    "wspolcz_wiersz = np.linalg.cond(H, np.inf)\n",
    "\n",
    "print(\"Współczynnik uwarunkowania (norma kolumnowa): \", wspolcz_kol)\n",
    "print(\"Współczynnik uwarunkowania (norma spektralna): \", wspolcz_spek)\n",
    "print(\"Współczynnik uwarunkowania (norma wierszowa): \", wspolcz_wiersz)\n",
    "print(H.shape)\n",
    "print(H)\n",
    "\"\"\"\n",
    "Obliczone współczynniki uwarunkowania macierzy są bardzo duże (rzędu 10^10), macierz Hilberta jest źle uwarunkowana.\n",
    "\"\"\""
   ]
  },
  {
   "cell_type": "code",
   "execution_count": 4,
   "metadata": {},
   "outputs": [
    {
     "name": "stdout",
     "output_type": "stream",
     "text": [
      "numpy.linalg.solve:  0.04380660700007866\n",
      "scipy.linalg.solve_triangular:  0.1810348270000759\n",
      "numpy.linalg.lstsq:  0.10882495300006667\n",
      "2.6625106458567517e-15\n",
      "3.593677202404669e-15\n",
      "4.750543327066995e-15\n"
     ]
    },
    {
     "data": {
      "text/plain": [
       "'\\nNorma residuum jest najmniejsza dla metody numpy.linalg.solve, największa dla numpy.linalg.lstsq. Oznacza to, \\nże jakoś otrzymanych wyników jest najlepszej jakości dla pierwszej metody.\\n'"
      ]
     },
     "execution_count": 4,
     "metadata": {},
     "output_type": "execute_result"
    }
   ],
   "source": [
    "#zad 3\n",
    "import math\n",
    "from numpy import array\n",
    "from scipy.linalg import solve_triangular\n",
    "from numpy.linalg import lstsq\n",
    "from timeit import timeit\n",
    "\n",
    "\n",
    "n = 20\n",
    "t = np.linspace(0, 1, n)\n",
    "b = array([math.cos(4*t[i]) for i in range(t.size)])\n",
    "\n",
    "vand = np.vander(t,increasing=True)\n",
    "\n",
    "def rozw1(A, b):     #numpy.linalg.solve\n",
    "    return np.linalg.solve(A, b)\n",
    "\n",
    "x1 = rozw1(vand, b)\n",
    "\n",
    "def rozw2(A, b):  #metoda QR\n",
    "    Q, R = np.linalg.qr(A) #Q^T = Q^-1 (ortogonalna), R-trójk.górna\n",
    "    #QRx=b; Rx = (Q^T)*b\n",
    "    return solve_triangular(R, np.dot(np.transpose(Q), b))\n",
    "\n",
    "x2 = rozw2(vand, b)\n",
    "\n",
    "def rozw3(A, b):\n",
    "    return lstsq(A, b, rcond=None)[0]\n",
    "\n",
    "x3 = rozw3(vand, b)\n",
    "\n",
    "\n",
    "czas1 = timeit('rozw1(vand,b)', setup='from __main__ import rozw1, vand, b', number=1000) #Runs the test 1000 times\n",
    "czas2 = timeit('rozw2(vand,b)', setup='from __main__ import rozw2, vand, b', number=1000)\n",
    "czas3 = timeit('rozw3(vand,b)', setup='from __main__ import rozw3, vand, b', number=1000)\n",
    "\n",
    "print(\"numpy.linalg.solve: \", czas1)\n",
    "print(\"scipy.linalg.solve_triangular: \", czas2)\n",
    "print(\"numpy.linalg.lstsq: \", czas3)\n",
    "\n",
    "\"\"\"\n",
    "Najszybsze-linalg.solve, najwolniejsze solve_triangular-najpierw należy dokonać rozkładu na dwie macierze, \n",
    "a dopiero potem rozwiązań równanie. solve_trangular - pośrednia szybkość.\n",
    "\n",
    "Jeśli A jest kwadratowa, x jest dokładnym rozwiązaniem równania: \n",
    "If a is square and of full rank, then x (but for round-off error) is the “exact” solution of the equation.\n",
    "\"\"\"\n",
    "\n",
    "#print(len(vand[0]))\n",
    "b1=array([b])\n",
    "#print(b1.shape)\n",
    "x11=array([x1])\n",
    "#print(x11.shape)\n",
    "\n",
    "def norma_residuum(A, b, x): #obliczam residuum: r=b-Ax, a następnie normę euklidesową z wektora r\n",
    "    result=0\n",
    "    Ax=np.dot(A,x) #mnożenie macierzy\n",
    "    for i in range (0,len(A)):\n",
    "        result+=math.pow((abs(b[i]-Ax[i])),2)\n",
    "    return math.sqrt(result)\n",
    "\n",
    "norm_res1 = norma_residuum(vand, b, x1)\n",
    "norm_res2 = norma_residuum(vand, b, x2)\n",
    "norm_res3 = norma_residuum(vand, b, x3)\n",
    "\n",
    "print(norm_res1)\n",
    "print(norm_res2)\n",
    "print(norm_res3)\n",
    "\n",
    "\"\"\"\n",
    "Norma residuum jest najmniejsza dla metody numpy.linalg.solve, największa dla numpy.linalg.lstsq. Oznacza to, \n",
    "że jakoś otrzymanych wyników jest najlepszej jakości dla pierwszej metody.\n",
    "\"\"\"\n"
   ]
  },
  {
   "cell_type": "code",
   "execution_count": 5,
   "metadata": {},
   "outputs": [
    {
     "data": {
      "text/plain": [
       "<Figure size 1200x600 with 1 Axes>"
      ]
     },
     "metadata": {},
     "output_type": "display_data"
    },
    {
     "data": {
      "text/plain": [
       "'\\nWspółczynnik uwarunkowania macierzy rośnie wraz ze wzrostem wartości tau. Oznacza to, że im mniejsza wartość tau, tym lepiej\\nuwarunkowana jest macierz.\\n'"
      ]
     },
     "execution_count": 5,
     "metadata": {},
     "output_type": "execute_result"
    }
   ],
   "source": [
    "#zad 4\n",
    "import matplotlib.pyplot as plt\n",
    "\n",
    "n=3\n",
    "\n",
    "def generuj_macierz():\n",
    "    glowna_przekatna=array([1. for i in range(n)])\n",
    "    wynik=np.diag(glowna_przekatna)\n",
    "\n",
    "    for i in range(1,n):\n",
    "        it = n-i\n",
    "        x, y = i, 0\n",
    "        while it > 0:               \n",
    "            wynik[x][y] = wynik[y][x] = np.random.uniform(-1,1) #macierz symetryczna, wartości losowe [-1;1]  \n",
    "            x += 1\n",
    "            y += 1\n",
    "            it -= 1\n",
    "    \n",
    "    return wynik\n",
    "   \n",
    "def zastap_wartosci_zerami(A, tau):\n",
    "    wynik = A.copy()\n",
    "    for i in range(1,n):\n",
    "        it = n-i\n",
    "        x, y = i, 0\n",
    "        while it > 0:               \n",
    "            if(abs(wynik[x][y]) > tau):\n",
    "                wynik[x][y] = wynik[y][x] = 0.            \n",
    "            x += 1\n",
    "            y += 1\n",
    "            it -= 1\n",
    "    \n",
    "    return wynik\n",
    "\n",
    "b = np.linspace(-1, 1, n)\n",
    "tau = [0.01, 0.05, 0.1, 0.2, 0.5, 0.75]\n",
    "\n",
    "A = generuj_macierz()\n",
    "\n",
    "wspolcz_uwarunk = []\n",
    "for i in range (0, len(tau)):\n",
    "    wspolcz_uwarunk.append(np.linalg.cond(zastap_wartosci_zerami(A, tau[i])))\n",
    "\n",
    "plt.figure(figsize=(12,6))\n",
    "plt.plot(tau, wspolcz_uwarunk)\n",
    "plt.title('Wykres wartości współczynnika uwarunkowania macierzy w zależności od wartości tau')\n",
    "plt.xlabel('tau')\n",
    "plt.ylabel('cond(A)')\n",
    "plt.show()\n",
    "\n",
    "\"\"\"\n",
    "Współczynnik uwarunkowania macierzy rośnie wraz ze wzrostem wartości tau. Oznacza to, że im mniejsza wartość tau, tym lepiej\n",
    "uwarunkowana jest macierz.\n",
    "\"\"\""
   ]
  },
  {
   "cell_type": "code",
   "execution_count": 6,
   "metadata": {},
   "outputs": [
    {
     "data": {
      "image/png": "[encoded data removed]",
      "text/plain": [
       "<Figure size 864x432 with 1 Axes>"
      ]
     },
     "metadata": {
      "needs_background": "light"
     },
     "output_type": "display_data"
    },
    {
     "data": {
      "image/png": "[encoded data removed]",
      "text/plain": [
       "<Figure size 864x432 with 1 Axes>"
      ]
     },
     "metadata": {
      "needs_background": "light"
     },
     "output_type": "display_data"
    },
    {
     "data": {
      "text/plain": [
       "'\\nNajszybsza jest metoda numpy.linalg.solve, której czas wykonywania praktycznie nie zależy od wartości tau.\\nW przypadku metody scipy.sparse.linalg.bicg wraz ze wzrostem tau, powoli wzrasta czas wykonania.\\nscipy.sparse.linalg.gmres działa najwolniej, im większe tau, tym wolniejsze wykonanie funkcji.\\nOgólnie, im lepiej uwarunkowana macierz(mniejsze tau), tym szybsze obliczenia. \\nJakość obliczeń jest tym lepsza, im mniejsze jest tau.\\n'"
      ]
     },
     "execution_count": 6,
     "metadata": {},
     "output_type": "execute_result"
    }
   ],
   "source": [
    "#zad 4 c.d.\n",
    "import scipy.sparse.linalg\n",
    "\n",
    "def rozw1(A, b, tau):     #numpy.linalg.solve\n",
    "    return np.linalg.solve(zastap_wartosci_zerami(A, tau), b)\n",
    "\n",
    "def rozw2(A, b, tau):     #scipy.sparse.linalg.bicg\n",
    "    return scipy.sparse.linalg.bicg(zastap_wartosci_zerami(A, tau), b)[0]\n",
    "\n",
    "def rozw3(A, b, tau):     #scipy.sparse.linalg.gmres\n",
    "    return scipy.sparse.linalg.gmres(zastap_wartosci_zerami(A, tau), b)[0]\n",
    "\n",
    "rozwiaz1=[]\n",
    "for i in range(0, len(tau)):\n",
    "    rozwiaz1.append(rozw1(A, b, tau[i]))\n",
    "    \n",
    "rozwiaz2=[]\n",
    "for i in range(0, len(tau)):\n",
    "    rozwiaz2.append(rozw2(A, b, tau[i]))\n",
    "    \n",
    "rozwiaz3=[]\n",
    "for i in range(0, len(tau)):\n",
    "    rozwiaz3.append(rozw3(A, b, tau[i]))\n",
    "    \n",
    "czas1, czas2, czas3 = [],[], []\n",
    "norma_res1, norma_res2, norma_res3 = [], [], []\n",
    "for i in range (0, len(tau)):\n",
    "    czas1.append(timeit('rozw1(A,b,tau['+str(i)+'])', setup='from __main__ import rozw1, A, b, tau', number=1000))\n",
    "    czas2.append(timeit('rozw2(A,b,tau['+str(i)+'])', setup='from __main__ import rozw2, A, b, tau', number=1000))\n",
    "    czas3.append(timeit('rozw3(A,b,tau['+str(i)+'])', setup='from __main__ import rozw3, A, b, tau', number=1000))\n",
    "    norma_res1.append(norma_residuum(A, b, rozw1(A,b,tau[i])))\n",
    "    norma_res2.append(norma_residuum(A, b, rozw2(A,b,tau[i])))\n",
    "    norma_res3.append(norma_residuum(A, b, rozw3(A,b,tau[i])))\n",
    "\n",
    "\n",
    "\n",
    "\n",
    "plt.figure(figsize=(12,6))\n",
    "plt.plot(tau, czas1, label='numpy.linalg.solve')\n",
    "plt.plot(tau, czas2, label='scipy.sparse.linalg.bicg')\n",
    "plt.plot(tau, czas3, label='scipy.sparse.linalg.gmres')\n",
    "#plt.plot(tau, wspolcz_uwarunk, label='współczynnik uwarunkowania macierzy')\n",
    "\n",
    "plt.xlabel('tau')\n",
    "plt.ylabel('czas wykonania')\n",
    "plt.legend()\n",
    "plt.show()\n",
    "\n",
    "plt.figure(figsize=(12,6))\n",
    "plt.plot(tau, norma_res1, label='numpy.linalg.solve')\n",
    "plt.plot(tau, norma_res2, label='scipy.sparse.linalg.bicg')\n",
    "plt.plot(tau, norma_res3, label='scipy.sparse.linalg.gmres')\n",
    "#plt.plot(tau, wspolcz_uwarunk, label='współczynnik uwarunkowania macierzy')\n",
    "\n",
    "plt.xlabel('tau')\n",
    "plt.ylabel('Norma residuum')\n",
    "plt.legend()\n",
    "plt.show()\n",
    "\n",
    "\"\"\"\n",
    "Najszybsza jest metoda numpy.linalg.solve, której czas wykonywania praktycznie nie zależy od wartości tau.\n",
    "W przypadku metody scipy.sparse.linalg.bicg wraz ze wzrostem tau, powoli wzrasta czas wykonania.\n",
    "scipy.sparse.linalg.gmres działa najwolniej, im większe tau, tym wolniejsze wykonanie funkcji.\n",
    "Ogólnie, im lepiej uwarunkowana macierz(mniejsze tau), tym szybsze obliczenia. \n",
    "Jakość obliczeń jest tym lepsza, im mniejsze jest tau.\n",
    "\"\"\""
   ]
  },
  {
   "cell_type": "code",
   "execution_count": 7,
   "metadata": {},
   "outputs": [
    {
     "name": "stdout",
     "output_type": "stream",
     "text": [
      "Układ 1\n",
      "Wartości własne:  [0.         0.99990001]\n",
      "[1. 1.]\n",
      "[1. 1.]\n",
      "Układ 2\n",
      "Wartości własne:  [0. +0.j         3.5+2.39791576j 3.5-2.39791576j]\n",
      "Promień spektralny większy od 1\n",
      "None\n",
      "[ 0.25 -0.75  0.75]\n"
     ]
    },
    {
     "data": {
      "text/plain": [
       "'\\nDla układu 1 wynik pokrywa się z rezultatem otrzymanym z funkcji solve. W przypadku drugiego układu wynik metody Gaussa-Seidla\\nnie pokrywa się z wynikiem z metody solve, nie jest spełniony warunek zbieżności - promień spektralny A jest większy od 1.\\n'"
      ]
     },
     "execution_count": 7,
     "metadata": {},
     "output_type": "execute_result"
    }
   ],
   "source": [
    "#zad 5\n",
    "import numpy as np\n",
    "from scipy.linalg import solve\n",
    "\n",
    "def spr_promien_spektr(A):\n",
    "    L_plus_D = np.tril(A) #trojkatna dolna, L+D\n",
    "    U = A - L_plus_D #naddiagonalna\n",
    "    Mgs = np.dot(-np.linalg.inv(L_plus_D), U)\n",
    "    w, v = np.linalg.eig(Mgs) #wartości, wektory własne\n",
    "    print(\"Wartości własne: \", w)\n",
    "    for i in range (0, len(w)):\n",
    "        if(abs(w[i])>1):\n",
    "            return 0\n",
    "    return 1\n",
    "        \n",
    "    \n",
    "    \n",
    "    \n",
    "def gauss(A, b, n): #n - ilość iteracji\n",
    "    x=[1 for i in range(0,len(b))] #początkowo\n",
    "    L_plus_D = np.tril(A) #trojkatna dolna, L+D\n",
    "    U = A - L_plus_D #naddiagonalna\n",
    "    if(spr_promien_spektr(A) == 0):\n",
    "        print(\"Promień spektralny większy od 1\")\n",
    "        return None\n",
    "    \n",
    "    for i in range(n):\n",
    "        x = np.dot(np.linalg.inv(L_plus_D), b - np.dot(U, x))\n",
    "        #print(x)\n",
    "    return x\n",
    "\n",
    "n = 50\n",
    "\n",
    "print(\"Układ 1\")\n",
    "A=np.array([[1,1],[1,1.0001]])\n",
    "b=np.array([2,2.0001])\n",
    "\n",
    "print(gauss(A, b, n))\n",
    "print(solve(A, b))\n",
    "\n",
    "print(\"Układ 2\")\n",
    "A=np.array([[1,2,3],[2,1,3],[3,2,1]])\n",
    "b=np.array([1,2,0])\n",
    "print(gauss(A, b, n))\n",
    "print(solve(A, b))\n",
    "\n",
    "\n",
    "\"\"\"\n",
    "Dla układu 1 wynik pokrywa się z rezultatem otrzymanym z funkcji solve. W przypadku drugiego układu wynik metody Gaussa-Seidla\n",
    "nie pokrywa się z wynikiem z metody solve, nie jest spełniony warunek zbieżności - promień spektralny A jest większy od 1.\n",
    "\"\"\""
   ]
  }
 ],
 "metadata": {
  "kernelspec": {
   "display_name": "Python 3",
   "language": "python",
   "name": "python3"
  },
  "language_info": {
   "codemirror_mode": {
    "name": "ipython",
    "version": 3
   },
   "file_extension": ".py",
   "mimetype": "text/x-python",
   "name": "python",
   "nbconvert_exporter": "python",
   "pygments_lexer": "ipython3",
   "version": "3.7.0"
  }
 },
 "nbformat": 4,
 "nbformat_minor": 2
}
