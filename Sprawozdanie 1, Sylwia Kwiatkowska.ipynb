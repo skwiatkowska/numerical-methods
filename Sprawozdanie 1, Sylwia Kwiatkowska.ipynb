{
 "cells": [
  {
   "cell_type": "markdown",
   "metadata": {},
   "source": [
    "Sprawozdanie 1, Sylwia Kwiatkowska"
   ]
  },
  {
   "cell_type": "code",
   "execution_count": 19,
   "metadata": {},
   "outputs": [
    {
     "name": "stdout",
     "output_type": "stream",
     "text": [
      "3280.7316257200923 <class 'float'>\n",
      "4467 <class 'int'>\n",
      "2j <class 'complex'>\n",
      "7747.731625720093 <class 'float'>\n",
      "(7747.731625720093+2j) <class 'complex'>\n"
     ]
    }
   ],
   "source": [
    "# zad 1\n",
    "import math\n",
    "\n",
    "k = math.sqrt(7) * 1240\n",
    "m = 4467\n",
    "l = 2j\n",
    "d = k + m\n",
    "c = d + l\n",
    "\n",
    "print(k, type(k))\n",
    "print(m, type(m))\n",
    "print(l, type(l))\n",
    "print(d, type(d))\n",
    "print(c, type(c))"
   ]
  },
  {
   "cell_type": "code",
   "execution_count": 20,
   "metadata": {},
   "outputs": [
    {
     "name": "stdout",
     "output_type": "stream",
     "text": [
      "d = 7747.731625720093\n",
      "d = 7747.732\n",
      "d = 7747.73162572009277937468\n"
     ]
    }
   ],
   "source": [
    "#zad 2\n",
    "print(\"d =\", d)\n",
    "print('d = %.3f' %d) #2 miejsca po przecinku\n",
    "print('d = %.20f' %d) #20 miejsc po przecinku"
   ]
  },
  {
   "cell_type": "code",
   "execution_count": 21,
   "metadata": {},
   "outputs": [
    {
     "name": "stdout",
     "output_type": "stream",
     "text": [
      "Pole walca:  5340.707511102649\n"
     ]
    }
   ],
   "source": [
    "#zad 3\n",
    "r = 17 #promien\n",
    "h = 33 #wysokosc\n",
    "print(\"Pole walca: \", 2*math.pi*r*(r+h))"
   ]
  },
  {
   "cell_type": "code",
   "execution_count": 22,
   "metadata": {},
   "outputs": [
    {
     "name": "stdout",
     "output_type": "stream",
     "text": [
      "-0.07208835292552468\n"
     ]
    }
   ],
   "source": [
    "#zad 5\n",
    "x_1 = -4\n",
    "r = -1\n",
    "t = 2\n",
    "B = (x_1 + r) * pow(x_1,(t*r))/((r*math.sin(2*x_1)) + 3.3456)\n",
    "print(B)"
   ]
  },
  {
   "cell_type": "code",
   "execution_count": 23,
   "metadata": {},
   "outputs": [
    {
     "name": "stdout",
     "output_type": "stream",
     "text": [
      "Macierz M: \n",
      " [[ 1.41421356  1.         -1.41421356]\n",
      " [ 0.          1.          1.        ]\n",
      " [-1.41421356  1.41421356  1.        ]]\n",
      "\n",
      "Macierz odwrotna do M: \n",
      " [[ 0.10355339  0.75       -0.60355339]\n",
      " [ 0.35355339  0.14644661  0.35355339]\n",
      " [-0.35355339  0.85355339 -0.35355339]]\n",
      "\n",
      "Wyznacznik:  -4.0\n",
      "\n",
      "Macierz transponowana: \n",
      " [[ 1.41421356  0.         -1.41421356]\n",
      " [ 1.          1.          1.41421356]\n",
      " [-1.41421356  1.          1.        ]]\n"
     ]
    }
   ],
   "source": [
    "#zad 6\n",
    "import numpy as np\n",
    "from numpy.linalg import *\n",
    "\n",
    "a=math.sqrt(2)\n",
    "M = np.array([[a,1,-a],[0,1,1],[-a,a,1]])\n",
    "print(\"Macierz M: \\n\", M)\n",
    "print()\n",
    "Minv = inv(M)\n",
    "print(\"Macierz odwrotna do M: \\n\", Minv)\n",
    "print()\n",
    "det = det(M)\n",
    "print(\"Wyznacznik: \", det)\n",
    "print()\n",
    "transp = np.transpose(M)\n",
    "print(\"Macierz transponowana: \\n\", transp)"
   ]
  },
  {
   "cell_type": "code",
   "execution_count": 24,
   "metadata": {},
   "outputs": [
    {
     "name": "stdout",
     "output_type": "stream",
     "text": [
      "1.4142135623730951\n",
      "1.0\n",
      "1.4142135623730951\n",
      "W1: [-1.41421356  1.          1.        ]\n",
      "W2: [0. 1. 1.]\n"
     ]
    }
   ],
   "source": [
    "#zad 7\n",
    "print(M[0,0])\n",
    "print(M[2,2])\n",
    "print(M[2,1])\n",
    "\n",
    "w1 = M[:, 2]\n",
    "w2 = M[1, :]\n",
    "\n",
    "print(\"W1:\", w1)\n",
    "print(\"W2:\", w2)"
   ]
  },
  {
   "cell_type": "code",
   "execution_count": 25,
   "metadata": {},
   "outputs": [
    {
     "name": "stdout",
     "output_type": "stream",
     "text": [
      "[ 5.  3.  2. -2. -1.]\n",
      "0\n"
     ]
    }
   ],
   "source": [
    "#zad 8\n",
    "w=[1,-7,3,43,-28,-60]\n",
    "wynik=np.roots(w)\n",
    "print(wynik)\n",
    "\n",
    "spr=3**5-7*3**4+3*3**3+43*3**2-28*3-60\n",
    "print(spr)"
   ]
  },
  {
   "cell_type": "code",
   "execution_count": 26,
   "metadata": {},
   "outputs": [
    {
     "name": "stdout",
     "output_type": "stream",
     "text": [
      "[1. 3. 5.]\n",
      "[2.  2.5 3.  3.5]\n"
     ]
    }
   ],
   "source": [
    "#zad 9\n",
    "print(np.linspace(1.0, 5.0, num = 3, endpoint = True)) #num-ilosc elementow, endpoint-true: [start,stop], false: [start,stop)\n",
    "print(np.arange(2.0, 4.0, 0.5)) #start,stop,step"
   ]
  },
  {
   "cell_type": "code",
   "execution_count": 27,
   "metadata": {},
   "outputs": [
    {
     "data": {
      "text/plain": [
       "<Figure size 640x480 with 1 Axes>"
      ]
     },
     "metadata": {},
     "output_type": "display_data"
    },
    {
     "data": {
      "text/plain": [
       "<Figure size 640x480 with 1 Axes>"
      ]
     },
     "metadata": {},
     "output_type": "display_data"
    },
    {
     "data": {
      "text/plain": [
       "<Figure size 640x480 with 1 Axes>"
      ]
     },
     "metadata": {},
     "output_type": "display_data"
    }
   ],
   "source": [
    "#zad 10\n",
    "import matplotlib.pyplot as plt\n",
    "\n",
    "def funkcja(x):\n",
    "    return x**3 - 3*x\n",
    "\n",
    "#wykres 1\n",
    "x = np.linspace(-1,1)\n",
    "y = []         #1 sposób\n",
    "for i in x:\n",
    "    y.append(funkcja(i))  \n",
    "plt.plot(x, y)\n",
    "plt.title('Wykres 1')\n",
    "plt.xlabel('x')\n",
    "plt.ylabel('y')\n",
    "plt.legend('Wykres 1')\n",
    "plt.show()\n",
    "\n",
    "#wykres 2\n",
    "x=np.linspace(-5,5)\n",
    "y = [funkcja(i) for i in x]   #2 sposób\n",
    "plt.plot(x, y)\n",
    "plt.title('Wykres 2')\n",
    "plt.xlabel('x')\n",
    "plt.ylabel('y')\n",
    "plt.legend('Wykres 2')\n",
    "plt.show()\n",
    "\n",
    "#wykres 3 \n",
    "x=np.linspace(0,5)\n",
    "y = funkcja(x)   #3 sposób\n",
    "plt.plot(x, y)\n",
    "plt.title('Wykres 3')\n",
    "plt.xlabel('x')\n",
    "plt.ylabel('y')\n",
    "plt.legend('Wykres 3')\n",
    "plt.show()"
   ]
  },
  {
   "cell_type": "code",
   "execution_count": 28,
   "metadata": {},
   "outputs": [
    {
     "name": "stdout",
     "output_type": "stream",
     "text": [
      "347.2222222222223\n",
      "82.9326388888889\n",
      "\n"
     ]
    },
    {
     "data": {
      "image/png": "[encoded data removed]",
      "text/plain": [
       "<Figure size 432x288 with 2 Axes>"
      ]
     },
     "metadata": {
      "needs_background": "light"
     },
     "output_type": "display_data"
    }
   ],
   "source": [
    "#zad 11\n",
    "Q = lambda m, v: 0.5*m*v**2\n",
    "m = 2.5 #kg\n",
    "v=60*1000/3600 #m/s\n",
    "\n",
    "print(Q(m,v)) #wynik w dżulach\n",
    "print(Q(m,v)*0.238846) #wynik w kcal\n",
    "\n",
    "m2=3000\n",
    "\n",
    "v=np.linspace(200,0)\n",
    "\n",
    "plt.figure()\n",
    "plt.subplot(211) #liczba wierszy, liczba kolumn, pozycja bieżącego\n",
    "plt.title('Wykres lin')\n",
    "plt.xlabel('x')\n",
    "plt.ylabel('y')\n",
    "plt.legend('Wykres 1')\n",
    "\n",
    "print()\n",
    "plt.plot(v, Q(m2/1000, v*10/36))\n",
    "plt.subplot(212)\n",
    "plt.semilogy(v,Q(m2/1000, v*10/36))\n",
    "plt.title('Wykres log')\n",
    "plt.xlabel('x')\n",
    "plt.ylabel('y')\n",
    "plt.legend('Wykres 2')\n",
    "plt.show()"
   ]
  }
 ],
 "metadata": {
  "kernelspec": {
   "display_name": "Python 3",
   "language": "python",
   "name": "python3"
  },
  "language_info": {
   "codemirror_mode": {
    "name": "ipython",
    "version": 3
   },
   "file_extension": ".py",
   "mimetype": "text/x-python",
   "name": "python",
   "nbconvert_exporter": "python",
   "pygments_lexer": "ipython3",
   "version": "3.7.0"
  }
 },
 "nbformat": 4,
 "nbformat_minor": 2
}
