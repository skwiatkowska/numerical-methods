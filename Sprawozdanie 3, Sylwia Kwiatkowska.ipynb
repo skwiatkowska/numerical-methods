{
 "cells": [
  {
   "cell_type": "markdown",
   "metadata": {},
   "source": [
    "Sylwia Kwiatkowska, sprawozdanie 3"
   ]
  },
  {
   "cell_type": "code",
   "execution_count": 31,
   "metadata": {},
   "outputs": [],
   "source": [
    "import math\n",
    "import numpy as np\n",
    "import matplotlib.pyplot as plt\n",
    "import scipy.optimize as scp\n",
    "import time\n",
    "\n",
    "\n",
    "\n",
    "def f(x):\n",
    "    return math.exp(-2*x) + x**2 - 1\n",
    "\n",
    "#pierwsza pochodna\n",
    "def f1(x):\n",
    "    return -2*math.exp(-2*x) + 2*x\n",
    "\n",
    "#druga pochodna\n",
    "def f2(x):\n",
    "    return 4*math.exp(-2*x) + 2\n"
   ]
  },
  {
   "cell_type": "code",
   "execution_count": 32,
   "metadata": {},
   "outputs": [
    {
     "data": {
      "image/png": "[encoded data removed]",
      "text/plain": [
       "<Figure size 432x288 with 1 Axes>"
      ]
     },
     "metadata": {
      "needs_background": "light"
     },
     "output_type": "display_data"
    }
   ],
   "source": [
    "#zad 1\n",
    "x = np.linspace(-0.5,2)\n",
    "y = []\n",
    "for i in x:\n",
    "    y.append(f(i))\n",
    "y2 = []\n",
    "for i in x:\n",
    "    y2.append(f1(i))\n",
    "y3 = []\n",
    "for i in x:\n",
    "    y3.append(f2(i))\n",
    "plt.plot(x,y, label=\"f(x)\")\n",
    "plt.plot(x,y2, label=\"f'(x)\")\n",
    "plt.plot(x,y3, label=\"f''(x)\")\n",
    "plt.xlabel(\"x\")\n",
    "plt.ylabel(\"y\")\n",
    "plt.grid(True)\n",
    "plt.legend(loc='upper right')\n",
    "\n",
    "plt.show()\n",
    "\n",
    "#Wartości pierwiastków w okolicach 0 i 1\n",
    "#przedziały:[-0.5;0.5] i [0.5;1.5]"
   ]
  },
  {
   "cell_type": "code",
   "execution_count": 33,
   "metadata": {},
   "outputs": [
    {
     "name": "stdout",
     "output_type": "stream",
     "text": [
      "(0.0, 0)\n",
      "(0.9165625831228681, 34)\n",
      "0.9165625831228681\n",
      "0.0  funkcja własna\n",
      "0.0004987716674804688  funkcja biblioteczna\n"
     ]
    },
    {
     "data": {
      "text/plain": [
       "'\\nWarunki wystarczające zbieżności metody w przedziale izolacji pierwiastka:\\nfunkcja f(x) jest ciągła w przedziale domkniętym [a;b]\\nfunkcja przyjmuje różne znaki na końcach przedziału: f(a)*f(b)<0\\n'"
      ]
     },
     "execution_count": 33,
     "metadata": {},
     "output_type": "execute_result"
    }
   ],
   "source": [
    "#zad 2 Metoda bisekcji\n",
    "\n",
    "def bisec(fun, a, b, dokl, n): #n - max. liczba iteracji\n",
    "    it=0\n",
    "    if(f(a) * f(b) > 0):\n",
    "        print(\"Zle dobrany przedzial\")\n",
    "        return None\n",
    "    while (math.fabs(b-a) >= dokl and it<n):\n",
    "        c = a+(b-a)/2\n",
    "        if(f(c)==0):\n",
    "            return c, it\n",
    "        if(fun(a)*fun(c)<0):\n",
    "            b = c\n",
    "        else:\n",
    "            a = c\n",
    "        it = it + 1\n",
    "    return c, it\n",
    "\n",
    "#pierwszy pierwiastek:\n",
    "print(bisec(f,-0.5,0.5,10**(-10), 1000))\n",
    "\n",
    "\n",
    "#drugi pierwiastek\n",
    "curt = time.time()\n",
    "print(bisec(f,0.5,1.5,10**(-10), 1000))\n",
    "curt2 = time.time()\n",
    "time_bisec = curt2-curt\n",
    "print(scp.bisect(f,0.5,1.5,xtol=10**-10,maxiter=1000))\n",
    "curt3 = time.time()\n",
    "\n",
    "print(str(time_bisec)+ \"  funkcja własna\")\n",
    "print(str(curt3-curt2)+ \"  funkcja biblioteczna\")\n",
    "\"\"\"\n",
    "Warunki wystarczające zbieżności metody w przedziale izolacji pierwiastka:\n",
    "funkcja f(x) jest ciągła w przedziale domkniętym [a;b]\n",
    "funkcja przyjmuje różne znaki na końcach przedziału: f(a)*f(b)<0\n",
    "\"\"\"\n"
   ]
  },
  {
   "cell_type": "code",
   "execution_count": 34,
   "metadata": {},
   "outputs": [
    {
     "name": "stdout",
     "output_type": "stream",
     "text": [
      "Punkt startowy:  -0.5\n",
      "(-5.125559246038141e-17, 6)\n",
      "\n",
      "optimize.newton: \n",
      "-5.125559246038141e-17\n",
      "\n",
      "Punkt startowy:  0.5\n",
      "(0.916562583105698, 7)\n",
      "\n",
      "optimize.newton: \n",
      "0.916562583105698\n",
      "\n",
      "0.0004987716674804688  funkcja własna\n",
      "0.0  funkcja biblioteczna\n"
     ]
    },
    {
     "data": {
      "text/plain": [
       "'\\nWarunki wystarczające zbieżności metody dla ustalonego punktu startowego:\\nW przedziale [a,b] znajduje się dokładnie jeden pierwiastek.\\nFunkcja ma różne znaki na krańcach przedziału, tj. f(a)*f(b)<0.\\nPierwsza i druga pochodna funkcji mają stały znak w tym przedziale.\\n\\n'"
      ]
     },
     "execution_count": 34,
     "metadata": {},
     "output_type": "execute_result"
    }
   ],
   "source": [
    "#zad 3 Metoda stycznych (Newtona)\n",
    "#punkt startowy obliczeń - ten koniec przedziału [a,b], dla którego zachodzi f(x0)*f''(x0) > ,x0 = a lub x0 = b\n",
    "\n",
    "def znajdz_pkt_start(fun, fun2, a,b):\n",
    "    if (fun(a)*fun2(a) > 0):\n",
    "        return a\n",
    "    elif (fun(b)*fun2(b) > 0):\n",
    "        return b\n",
    "    else:\n",
    "        return None\n",
    "    \n",
    "\n",
    "\n",
    "    \n",
    "def newt_raph(fun, fun1, pkt_start, dokl, n):\n",
    "    print(\"Punkt startowy: \", pkt_start)\n",
    "    it = 0\n",
    "    x = pkt_start\n",
    "    x1 = float(\"inf\") #aby uruchomić petle while po raz pierwszy\n",
    "\n",
    "    while (math.fabs(x - x1) >= dokl and it < n):\n",
    "        x1 = x\n",
    "        x = x - (fun(x) / fun1(x))\n",
    "        it = it + 1\n",
    "    return x, it\n",
    "    \n",
    "\n",
    "\n",
    "#pierwszy pierwiastek\n",
    "print(newt_raph(f, f1, znajdz_pkt_start(f,f2,-0.5,0.5), 10**-10, 1000))\n",
    "print(\"\\noptimize.newton: \")\n",
    "print(scp.newton(f,-0.5,f1 ,tol=10**-10,maxiter=1000))\n",
    "print()\n",
    "#drugi pierwiastek\n",
    "curt = time.time()\n",
    "print(newt_raph(f, f1, 0.5, 10**-10, 1000))\n",
    "curt2 = time.time()\n",
    "time_newt = curt2-curt\n",
    "\n",
    "print(\"\\noptimize.newton: \")\n",
    "print(scp.newton(f,0.5,f1 ,tol=10**-10,maxiter=1000))\n",
    "curt3 = time.time()\n",
    "\n",
    "print()\n",
    "print(str(time_newt)+ \"  funkcja własna\")\n",
    "print(str(curt3-curt2)+ \"  funkcja biblioteczna\")\n",
    "\n",
    "\"\"\"\n",
    "Warunki wystarczające zbieżności metody dla ustalonego punktu startowego:\n",
    "W przedziale [a,b] znajduje się dokładnie jeden pierwiastek.\n",
    "Funkcja ma różne znaki na krańcach przedziału, tj. f(a)*f(b)<0.\n",
    "Pierwsza i druga pochodna funkcji mają stały znak w tym przedziale.\n",
    "\n",
    "\"\"\"\n"
   ]
  },
  {
   "cell_type": "code",
   "execution_count": 35,
   "metadata": {},
   "outputs": [
    {
     "name": "stdout",
     "output_type": "stream",
     "text": [
      "(-3.4071884777057885e-17, 15)\n",
      "\n",
      "optimize.newton: \n",
      "-5.125559246038141e-17\n",
      "\n",
      "(0.916562583105698, 8)\n",
      "\n",
      "optimize.newton: \n",
      "0.916562583105698\n",
      "\n",
      "0.0004963874816894531  funkcja własna\n",
      "0.0014972686767578125  funkcja biblioteczna\n"
     ]
    },
    {
     "data": {
      "text/plain": [
       "'\\nWarunki wystarczające zbieżności metody dla ustalonego punktu startowego:\\nW przedziale [a,b] znajduje się dokładnie jeden pierwiastek.\\nFunkcja ma różne znaki na krańcach przedziału, tj. f(a)*f(b)<0.\\nPierwsza i druga pochodna funkcji mają stały znak w tym przedziale.\\n\\n'"
      ]
     },
     "execution_count": 35,
     "metadata": {},
     "output_type": "execute_result"
    }
   ],
   "source": [
    "#zad 4 metoda siecznych\n",
    "def secant(fun, x0, x1, eps, n):\n",
    "    it = 0\n",
    "    while abs(x1-x0) > eps and it < n:\n",
    "        x2 = x1 - (fun(x1))*(x1 - x0)/(fun(x1) - fun(x0))\n",
    "        x0 = x1\n",
    "        x1 = x2\n",
    "        it = it + 1\n",
    "    return x2, it\n",
    "\n",
    "#pierwszy pierwiastek\n",
    "print(secant(f, -0.5,0.5, 10**-10, 1000))\n",
    "print(\"\\noptimize.newton: \")\n",
    "print(scp.newton(f,-0.5, f1 ,tol=10**-10,maxiter=1000))\n",
    "print()\n",
    "#drugi pierwiastek\n",
    "curt = time.time()\n",
    "print(secant(f, 0.5,1.5, 10**-10, 1000))\n",
    "curt2 = time.time()\n",
    "time_sec = curt2-curt\n",
    "\n",
    "print(\"\\noptimize.newton: \")\n",
    "print(scp.newton(f,0.5, f1 ,tol=10**-10,maxiter=1000))\n",
    "curt3 = time.time()\n",
    "\n",
    "print()\n",
    "print(str(time_sec)+ \"  funkcja własna\")\n",
    "print(str(curt3-curt2)+ \"  funkcja biblioteczna\")\n",
    "\n",
    "\n",
    "\n",
    "\"\"\"\n",
    "Warunki wystarczające zbieżności metody dla ustalonego punktu startowego:\n",
    "W przedziale [a,b] znajduje się dokładnie jeden pierwiastek.\n",
    "Funkcja ma różne znaki na krańcach przedziału, tj. f(a)*f(b)<0.\n",
    "Pierwsza i druga pochodna funkcji mają stały znak w tym przedziale.\n",
    "\n",
    "\"\"\"\n"
   ]
  },
  {
   "cell_type": "code",
   "execution_count": 36,
   "metadata": {},
   "outputs": [
    {
     "name": "stdout",
     "output_type": "stream",
     "text": [
      "0.0\n",
      "0.0004987716674804688\n",
      "0.0004963874816894531\n"
     ]
    },
    {
     "data": {
      "text/plain": [
       "'\\nPorównanie:\\n-metoda bisekcji - najwięcej iteracji - zbieżność wolna, liniowa\\n-metoda siecznych - zbieżność pośrednia, superliniowa\\n-metoda stycznych - najmniej iteracji - zbieżność najszybsza, kwadratowa\\n'"
      ]
     },
     "execution_count": 36,
     "metadata": {},
     "output_type": "execute_result"
    }
   ],
   "source": [
    "print(time_bisec)\n",
    "print(time_newt)\n",
    "print(time_sec)\n",
    "\n",
    "\"\"\"\n",
    "Porównanie:\n",
    "-metoda bisekcji - najwięcej iteracji - zbieżność wolna, liniowa\n",
    "-metoda siecznych - zbieżność pośrednia, superliniowa\n",
    "-metoda stycznych - najmniej iteracji - zbieżność najszybsza, kwadratowa\n",
    "\"\"\""
   ]
  },
  {
   "cell_type": "code",
   "execution_count": null,
   "metadata": {},
   "outputs": [],
   "source": []
  }
 ],
 "metadata": {
  "kernelspec": {
   "display_name": "Python 3",
   "language": "python",
   "name": "python3"
  },
  "language_info": {
   "codemirror_mode": {
    "name": "ipython",
    "version": 3
   },
   "file_extension": ".py",
   "mimetype": "text/x-python",
   "name": "python",
   "nbconvert_exporter": "python",
   "pygments_lexer": "ipython3",
   "version": "3.7.0"
  }
 },
 "nbformat": 4,
 "nbformat_minor": 2
}
